{
 "cells": [
  {
   "cell_type": "markdown",
   "metadata": {},
   "source": [
    "※ 'prob9_1.csv'은 이름, 선택, 그리고 점수의 column으로 구성되어 있다.<br>\n",
    "∙ csv 파일을 read_csv를 활용해 score라는 이름으로 읽어와라.(index를 이름으로 구성)<br>\n",
    "∙ 새로운 column '표준점수'를 만들고 값 계산을 하여라. 표준점수는 '선택' column을 group으로 한 뒤 계산된다.<br>\n",
    "  이 때, 표준점수는 20*((선택과목 - 선택과목 평균) / 선택과목 표준편차)+100로 산출된다.(standard_score라는 함수를 정의해 활용)<br>\n",
    "∙ 표준점수에 따라 점수가 높은 순으로 순위를 매겨 'rank' column을 만들고 rank가 4인 학생의 이름을 보여주시오.(rank함수 활용)"
   ]
  },
  {
   "cell_type": "code",
   "execution_count": 1,
   "metadata": {},
   "outputs": [],
   "source": [
    "import pandas as pd"
   ]
  },
  {
   "cell_type": "code",
   "execution_count": 8,
   "metadata": {},
   "outputs": [],
   "source": [
    "score = pd.read_csv('prob9_1.csv',index_col='이름', encoding='cp949')"
   ]
  },
  {
   "cell_type": "code",
   "execution_count": 20,
   "metadata": {},
   "outputs": [
    {
     "name": "stdout",
     "output_type": "stream",
     "text": [
      "Index(['예성'], dtype='object', name='이름')\n"
     ]
    },
    {
     "data": {
      "text/html": [
       "<div>\n",
       "<style scoped>\n",
       "    .dataframe tbody tr th:only-of-type {\n",
       "        vertical-align: middle;\n",
       "    }\n",
       "\n",
       "    .dataframe tbody tr th {\n",
       "        vertical-align: top;\n",
       "    }\n",
       "\n",
       "    .dataframe thead th {\n",
       "        text-align: right;\n",
       "    }\n",
       "</style>\n",
       "<table border=\"1\" class=\"dataframe\">\n",
       "  <thead>\n",
       "    <tr style=\"text-align: right;\">\n",
       "      <th></th>\n",
       "      <th>선택</th>\n",
       "      <th>점수</th>\n",
       "      <th>표준점수</th>\n",
       "      <th>rank</th>\n",
       "    </tr>\n",
       "    <tr>\n",
       "      <th>이름</th>\n",
       "      <th></th>\n",
       "      <th></th>\n",
       "      <th></th>\n",
       "      <th></th>\n",
       "    </tr>\n",
       "  </thead>\n",
       "  <tbody>\n",
       "    <tr>\n",
       "      <th>근호</th>\n",
       "      <td>농구</td>\n",
       "      <td>54</td>\n",
       "      <td>112.335203</td>\n",
       "      <td>3.0</td>\n",
       "    </tr>\n",
       "    <tr>\n",
       "      <th>성웅</th>\n",
       "      <td>축구</td>\n",
       "      <td>88</td>\n",
       "      <td>121.096207</td>\n",
       "      <td>1.0</td>\n",
       "    </tr>\n",
       "    <tr>\n",
       "      <th>예성</th>\n",
       "      <td>축구</td>\n",
       "      <td>75</td>\n",
       "      <td>97.589005</td>\n",
       "      <td>4.0</td>\n",
       "    </tr>\n",
       "    <tr>\n",
       "      <th>은하</th>\n",
       "      <td>축구</td>\n",
       "      <td>66</td>\n",
       "      <td>81.314788</td>\n",
       "      <td>6.0</td>\n",
       "    </tr>\n",
       "    <tr>\n",
       "      <th>뚜치</th>\n",
       "      <td>농구</td>\n",
       "      <td>58</td>\n",
       "      <td>120.916214</td>\n",
       "      <td>2.0</td>\n",
       "    </tr>\n",
       "    <tr>\n",
       "      <th>둘리</th>\n",
       "      <td>농구</td>\n",
       "      <td>43</td>\n",
       "      <td>88.737423</td>\n",
       "      <td>5.0</td>\n",
       "    </tr>\n",
       "    <tr>\n",
       "      <th>펭수</th>\n",
       "      <td>농구</td>\n",
       "      <td>38</td>\n",
       "      <td>78.011159</td>\n",
       "      <td>7.0</td>\n",
       "    </tr>\n",
       "  </tbody>\n",
       "</table>\n",
       "</div>"
      ],
      "text/plain": [
       "    선택  점수        표준점수  rank\n",
       "이름                          \n",
       "근호  농구  54  112.335203   3.0\n",
       "성웅  축구  88  121.096207   1.0\n",
       "예성  축구  75   97.589005   4.0\n",
       "은하  축구  66   81.314788   6.0\n",
       "뚜치  농구  58  120.916214   2.0\n",
       "둘리  농구  43   88.737423   5.0\n",
       "펭수  농구  38   78.011159   7.0"
      ]
     },
     "execution_count": 20,
     "metadata": {},
     "output_type": "execute_result"
    }
   ],
   "source": [
    "def standard_score(series):\n",
    "    return 20*((series - series.mean()) / series.std())+100\n",
    "score['표준점수']=score.groupby('선택')['점수'].apply(standard_score)\n",
    "score['rank']=score['표준점수'].rank(ascending=False)\n",
    "print(score[score['rank']==4].index)\n",
    "score"
   ]
  },
  {
   "cell_type": "markdown",
   "metadata": {},
   "source": [
    "※ 'prob9_2.csv'는 날짜, 방법1, 그리고 방법2의 column으로 구성되어 있다.<br>\n",
    "∙ csv 파일을 read_csv를 활용해 hello라는 이름으로 읽어와라.<br>\n",
    "∙ melt함수를 활용해 방법 1과 방법 2를 따른 행에 표현하여라.(이 때의 방법1,2에 대한 column 이름은 'method')<br>\n",
    "∙ melt된 dataframe에서 index를 기존 파일의 '날짜' column으로 바꾸고 '날짜' column을 삭제하여라.<br>\n",
    "∙ aggregation_value라는 함수를 활용해 방법1인 경우에 value값을 3배 해주어 '조정값'이라는 column을 만들어라.<br>\n",
    "∙ map함수를 활용해 방법1인 경우에는 mountain, 방법2인 경우에는 river의 값을 가지는 'place' column을 만들어라.<br>\n",
    "∙ 기존 'method' column을 삭제하고 place를 기준으로 value 평균을 구하여라.<br>"
   ]
  },
  {
   "cell_type": "code",
   "execution_count": 61,
   "metadata": {},
   "outputs": [
    {
     "data": {
      "text/html": [
       "<div>\n",
       "<style scoped>\n",
       "    .dataframe tbody tr th:only-of-type {\n",
       "        vertical-align: middle;\n",
       "    }\n",
       "\n",
       "    .dataframe tbody tr th {\n",
       "        vertical-align: top;\n",
       "    }\n",
       "\n",
       "    .dataframe thead th {\n",
       "        text-align: right;\n",
       "    }\n",
       "</style>\n",
       "<table border=\"1\" class=\"dataframe\">\n",
       "  <thead>\n",
       "    <tr style=\"text-align: right;\">\n",
       "      <th></th>\n",
       "      <th>날짜</th>\n",
       "      <th>방법1</th>\n",
       "      <th>방법2</th>\n",
       "    </tr>\n",
       "  </thead>\n",
       "  <tbody>\n",
       "    <tr>\n",
       "      <th>0</th>\n",
       "      <td>2020-02-05</td>\n",
       "      <td>8</td>\n",
       "      <td>25</td>\n",
       "    </tr>\n",
       "    <tr>\n",
       "      <th>1</th>\n",
       "      <td>2020-02-06</td>\n",
       "      <td>10</td>\n",
       "      <td>33</td>\n",
       "    </tr>\n",
       "    <tr>\n",
       "      <th>2</th>\n",
       "      <td>2020-02-07</td>\n",
       "      <td>13</td>\n",
       "      <td>38</td>\n",
       "    </tr>\n",
       "    <tr>\n",
       "      <th>3</th>\n",
       "      <td>2020-02-08</td>\n",
       "      <td>11</td>\n",
       "      <td>30</td>\n",
       "    </tr>\n",
       "  </tbody>\n",
       "</table>\n",
       "</div>"
      ],
      "text/plain": [
       "           날짜  방법1  방법2\n",
       "0  2020-02-05    8   25\n",
       "1  2020-02-06   10   33\n",
       "2  2020-02-07   13   38\n",
       "3  2020-02-08   11   30"
      ]
     },
     "execution_count": 61,
     "metadata": {},
     "output_type": "execute_result"
    }
   ],
   "source": [
    "hello = pd.read_csv('prob9_2.csv', encoding='cp949')\n",
    "hello"
   ]
  },
  {
   "cell_type": "code",
   "execution_count": 62,
   "metadata": {},
   "outputs": [
    {
     "data": {
      "text/html": [
       "<div>\n",
       "<style scoped>\n",
       "    .dataframe tbody tr th:only-of-type {\n",
       "        vertical-align: middle;\n",
       "    }\n",
       "\n",
       "    .dataframe tbody tr th {\n",
       "        vertical-align: top;\n",
       "    }\n",
       "\n",
       "    .dataframe thead th {\n",
       "        text-align: right;\n",
       "    }\n",
       "</style>\n",
       "<table border=\"1\" class=\"dataframe\">\n",
       "  <thead>\n",
       "    <tr style=\"text-align: right;\">\n",
       "      <th></th>\n",
       "      <th>method</th>\n",
       "      <th>value</th>\n",
       "    </tr>\n",
       "    <tr>\n",
       "      <th>날짜</th>\n",
       "      <th></th>\n",
       "      <th></th>\n",
       "    </tr>\n",
       "  </thead>\n",
       "  <tbody>\n",
       "    <tr>\n",
       "      <th>2020-02-05</th>\n",
       "      <td>방법1</td>\n",
       "      <td>8</td>\n",
       "    </tr>\n",
       "    <tr>\n",
       "      <th>2020-02-06</th>\n",
       "      <td>방법1</td>\n",
       "      <td>10</td>\n",
       "    </tr>\n",
       "    <tr>\n",
       "      <th>2020-02-07</th>\n",
       "      <td>방법1</td>\n",
       "      <td>13</td>\n",
       "    </tr>\n",
       "    <tr>\n",
       "      <th>2020-02-08</th>\n",
       "      <td>방법1</td>\n",
       "      <td>11</td>\n",
       "    </tr>\n",
       "    <tr>\n",
       "      <th>2020-02-05</th>\n",
       "      <td>방법2</td>\n",
       "      <td>25</td>\n",
       "    </tr>\n",
       "    <tr>\n",
       "      <th>2020-02-06</th>\n",
       "      <td>방법2</td>\n",
       "      <td>33</td>\n",
       "    </tr>\n",
       "    <tr>\n",
       "      <th>2020-02-07</th>\n",
       "      <td>방법2</td>\n",
       "      <td>38</td>\n",
       "    </tr>\n",
       "    <tr>\n",
       "      <th>2020-02-08</th>\n",
       "      <td>방법2</td>\n",
       "      <td>30</td>\n",
       "    </tr>\n",
       "  </tbody>\n",
       "</table>\n",
       "</div>"
      ],
      "text/plain": [
       "           method  value\n",
       "날짜                      \n",
       "2020-02-05    방법1      8\n",
       "2020-02-06    방법1     10\n",
       "2020-02-07    방법1     13\n",
       "2020-02-08    방법1     11\n",
       "2020-02-05    방법2     25\n",
       "2020-02-06    방법2     33\n",
       "2020-02-07    방법2     38\n",
       "2020-02-08    방법2     30"
      ]
     },
     "execution_count": 62,
     "metadata": {},
     "output_type": "execute_result"
    }
   ],
   "source": [
    "hello = hello.melt(id_vars='날짜',var_name='method')\n",
    "hello.index= hello['날짜']\n",
    "hello = hello.drop('날짜',axis=1)\n",
    "hello"
   ]
  },
  {
   "cell_type": "code",
   "execution_count": 63,
   "metadata": {},
   "outputs": [
    {
     "data": {
      "text/html": [
       "<div>\n",
       "<style scoped>\n",
       "    .dataframe tbody tr th:only-of-type {\n",
       "        vertical-align: middle;\n",
       "    }\n",
       "\n",
       "    .dataframe tbody tr th {\n",
       "        vertical-align: top;\n",
       "    }\n",
       "\n",
       "    .dataframe thead th {\n",
       "        text-align: right;\n",
       "    }\n",
       "</style>\n",
       "<table border=\"1\" class=\"dataframe\">\n",
       "  <thead>\n",
       "    <tr style=\"text-align: right;\">\n",
       "      <th></th>\n",
       "      <th>value</th>\n",
       "      <th>조정값</th>\n",
       "      <th>place</th>\n",
       "    </tr>\n",
       "    <tr>\n",
       "      <th>날짜</th>\n",
       "      <th></th>\n",
       "      <th></th>\n",
       "      <th></th>\n",
       "    </tr>\n",
       "  </thead>\n",
       "  <tbody>\n",
       "    <tr>\n",
       "      <th>2020-02-05</th>\n",
       "      <td>8</td>\n",
       "      <td>24</td>\n",
       "      <td>mountain</td>\n",
       "    </tr>\n",
       "    <tr>\n",
       "      <th>2020-02-06</th>\n",
       "      <td>10</td>\n",
       "      <td>30</td>\n",
       "      <td>mountain</td>\n",
       "    </tr>\n",
       "    <tr>\n",
       "      <th>2020-02-07</th>\n",
       "      <td>13</td>\n",
       "      <td>39</td>\n",
       "      <td>mountain</td>\n",
       "    </tr>\n",
       "    <tr>\n",
       "      <th>2020-02-08</th>\n",
       "      <td>11</td>\n",
       "      <td>33</td>\n",
       "      <td>mountain</td>\n",
       "    </tr>\n",
       "    <tr>\n",
       "      <th>2020-02-05</th>\n",
       "      <td>25</td>\n",
       "      <td>25</td>\n",
       "      <td>river</td>\n",
       "    </tr>\n",
       "    <tr>\n",
       "      <th>2020-02-06</th>\n",
       "      <td>33</td>\n",
       "      <td>33</td>\n",
       "      <td>river</td>\n",
       "    </tr>\n",
       "    <tr>\n",
       "      <th>2020-02-07</th>\n",
       "      <td>38</td>\n",
       "      <td>38</td>\n",
       "      <td>river</td>\n",
       "    </tr>\n",
       "    <tr>\n",
       "      <th>2020-02-08</th>\n",
       "      <td>30</td>\n",
       "      <td>30</td>\n",
       "      <td>river</td>\n",
       "    </tr>\n",
       "  </tbody>\n",
       "</table>\n",
       "</div>"
      ],
      "text/plain": [
       "            value  조정값     place\n",
       "날짜                              \n",
       "2020-02-05      8   24  mountain\n",
       "2020-02-06     10   30  mountain\n",
       "2020-02-07     13   39  mountain\n",
       "2020-02-08     11   33  mountain\n",
       "2020-02-05     25   25     river\n",
       "2020-02-06     33   33     river\n",
       "2020-02-07     38   38     river\n",
       "2020-02-08     30   30     river"
      ]
     },
     "execution_count": 63,
     "metadata": {},
     "output_type": "execute_result"
    }
   ],
   "source": [
    "def aggregation_value(row):\n",
    "    if row['method']=='방법1':\n",
    "        return row['value']*3\n",
    "    else:\n",
    "        return row['value']\n",
    "hello['조정값']=hello.apply(aggregation_value,axis=1)\n",
    "mountain_vs_river={'방법1':'mountain','방법2':'river'}\n",
    "hello['place']=hello['method'].map(mountain_vs_river)\n",
    "hello=hello.drop('method',axis=1)\n",
    "hello"
   ]
  },
  {
   "cell_type": "code",
   "execution_count": 64,
   "metadata": {},
   "outputs": [
    {
     "name": "stdout",
     "output_type": "stream",
     "text": [
      "place\n",
      "mountain    31.5\n",
      "river       31.5\n",
      "Name: 조정값, dtype: float64\n"
     ]
    }
   ],
   "source": [
    "print(hello1.groupby('place')['조정값'].mean())"
   ]
  },
  {
   "cell_type": "code",
   "execution_count": null,
   "metadata": {},
   "outputs": [],
   "source": []
  },
  {
   "cell_type": "markdown",
   "metadata": {},
   "source": [
    "※ 연속된 문제를 풀어보세요"
   ]
  },
  {
   "cell_type": "code",
   "execution_count": null,
   "metadata": {},
   "outputs": [],
   "source": [
    "import pandas as pd"
   ]
  },
  {
   "cell_type": "code",
   "execution_count": null,
   "metadata": {},
   "outputs": [],
   "source": [
    "data = pd.read_csv('application_train.csv') #application_train.csv 파일을 불러오세요."
   ]
  },
  {
   "cell_type": "code",
   "execution_count": null,
   "metadata": {},
   "outputs": [],
   "source": [
    "data = data.iloc[:500, :9]\n",
    "data = data.drop(['SK_ID_CURR', 'TARGET'], axis =1)\n",
    "data.columns = ['type', 'gender', 'own car', 'own realty', 'children', 'income', 'credit'] #그대로 실행! 이후 data의 모습의 확인합니다."
   ]
  },
  {
   "cell_type": "markdown",
   "metadata": {},
   "source": [
    "- Q1) 'type'과 'gender'를 multiindex로 하는 데이터프레임을 만들고 출력하라."
   ]
  },
  {
   "cell_type": "code",
   "execution_count": null,
   "metadata": {},
   "outputs": [],
   "source": [
    "data = data.set_index(['type', 'gender']).sort_index()"
   ]
  },
  {
   "cell_type": "markdown",
   "metadata": {},
   "source": [
    "- Q2) pivot_table과 groupby 함수를 사용해보자!\n",
    "    - a. 성별에 따른 자가용 소유 여부를 확인.\n",
    "    - b. 부동산 소유 여부를 그룹으로 하여 각 그룹의 자녀 수를 계산.\n",
    "    - c. Cash loans 타입 내에서, 성별과 부동산 소유 여부에 따른 수입 평균을 계산\n",
    "    - d. Revolving lonas 타입 내에서, 성별과 부동산 소유 여부에 따른 신용 거래 평균을 계산"
   ]
  },
  {
   "cell_type": "code",
   "execution_count": null,
   "metadata": {},
   "outputs": [],
   "source": [
    "data.pivot_table(index = 'gender', columns = 'own car', values = 'income', aggfunc = 'count')"
   ]
  },
  {
   "cell_type": "code",
   "execution_count": null,
   "metadata": {},
   "outputs": [],
   "source": [
    "data.groupby('own realty',)['children'].sum()"
   ]
  },
  {
   "cell_type": "code",
   "execution_count": null,
   "metadata": {},
   "outputs": [],
   "source": [
    "data.loc['Cash loans'].pivot_table(index='gender', columns = 'own realty', values = 'income', aggfunc = 'mean')"
   ]
  },
  {
   "cell_type": "code",
   "execution_count": null,
   "metadata": {},
   "outputs": [],
   "source": [
    "data.loc['Revolving loans'].pivot_table(index='gender', columns = 'own realty', values = 'credit', aggfunc = 'mean')"
   ]
  },
  {
   "cell_type": "markdown",
   "metadata": {},
   "source": [
    "- Q3) 부동산 소유 여부에 따른 자가용 소유 현황을 나타내는 데이터 프레임을 realty_car_count에 할당하고 출력하시오."
   ]
  },
  {
   "cell_type": "code",
   "execution_count": null,
   "metadata": {},
   "outputs": [],
   "source": [
    "realty_car_count = pd.DataFrame(data.groupby('own realty')['own car'].value_counts())"
   ]
  },
  {
   "cell_type": "markdown",
   "metadata": {},
   "source": [
    "- Q4) data에 'rank'라는 column을 추가\n",
    "    - 수입 대비(income) 대비 신용 거래(credit) 비율이 상위 25프로 내인 사람은 rank가 'danger', 그렇지 않은 경우는 'safe'. "
   ]
  },
  {
   "cell_type": "code",
   "execution_count": null,
   "metadata": {},
   "outputs": [],
   "source": [
    "danger_rate = data.credit/data.income"
   ]
  },
  {
   "cell_type": "code",
   "execution_count": null,
   "metadata": {},
   "outputs": [],
   "source": [
    "above_75 = (danger_rate > np.quantile(danger_rate, 0.75)).map({True:'danger', False:'safe'})\n",
    "data['rank'] = above_75"
   ]
  },
  {
   "cell_type": "code",
   "execution_count": null,
   "metadata": {},
   "outputs": [],
   "source": [
    "data"
   ]
  },
  {
   "cell_type": "markdown",
   "metadata": {},
   "source": [
    "- Q5) 부동산과 자가용 소유 여부를 index로 하여(groupby) rank의 value_counts를 계산하고 아래와 같은 데이터프레임을 만드시오.\n",
    "- Q6) 동일한 index로, 그룹 내 rank 의 비율을 구하고 아래와 같은 데이터프레임을 만드시오. (lambda 를 사용해봅시다!) "
   ]
  },
  {
   "cell_type": "code",
   "execution_count": null,
   "metadata": {},
   "outputs": [],
   "source": [
    "pd.DataFrame(data.groupby(['own car', 'own realty'])['rank'].value_counts())"
   ]
  },
  {
   "cell_type": "code",
   "execution_count": null,
   "metadata": {},
   "outputs": [],
   "source": [
    "    pd.DataFrame(data.groupby(['own car', 'own realty'])['rank'].apply(lambda p: (p.value_counts()/p.count()).round(2)))"
   ]
  },
  {
   "cell_type": "markdown",
   "metadata": {},
   "source": [
    "- Q7) 다음과 같은 pivot table을 만드시오. (values = 'income', aggfunc = 'mean')"
   ]
  },
  {
   "cell_type": "code",
   "execution_count": null,
   "metadata": {},
   "outputs": [],
   "source": [
    "data.pivot_table(index = ['own car', 'own realty'], columns = 'rank', values = 'income', aggfunc = 'mean')"
   ]
  }
 ],
 "metadata": {
  "kernelspec": {
   "display_name": "Python 3",
   "language": "python",
   "name": "python3"
  },
  "language_info": {
   "codemirror_mode": {
    "name": "ipython",
    "version": 3
   },
   "file_extension": ".py",
   "mimetype": "text/x-python",
   "name": "python",
   "nbconvert_exporter": "python",
   "pygments_lexer": "ipython3",
   "version": "3.7.6"
  }
 },
 "nbformat": 4,
 "nbformat_minor": 2
}
