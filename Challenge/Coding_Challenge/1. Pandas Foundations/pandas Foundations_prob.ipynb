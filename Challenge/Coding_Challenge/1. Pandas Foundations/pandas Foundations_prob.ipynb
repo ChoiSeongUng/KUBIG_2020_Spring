{
 "cells": [
  {
   "cell_type": "markdown",
   "metadata": {},
   "source": [
    "# Data Camp의 'pandas Foundations' 챕터 내용을 토대로 제작하였습니다."
   ]
  },
  {
   "cell_type": "markdown",
   "metadata": {},
   "source": [
    "※ 'prob8_1.csv'은 날짜(1열)에 따른 미세먼지(2열)와 초미세먼지(3열) 농도로 구성되어 있다.(columns 이름이 따로 존재하지 않음)<br>\n",
    "∙ csv 파일을 read_csv를 활용해 dust라는 이름으로 읽어와라.(columns 이름을 따로 설정해주는 작업 필요, index를 날짜로 구성)<br>\n",
    "∙ 새로운 column '점수'를 만들고 점수 계산을 하여라.(점수는 미세먼지 농도 + (1.8 * 초미세먼지 농도로 산출된다.)<br>\n",
    "∙ 점수가 100점 이상이면 미세먼지 등급이 나쁨이고 50점 이상이면 보통 그 아래면 양호의 값을 갖는 새로운 column '등급'을 만들어라.<br>\n",
    "  이 때 rank라는 함수를 정의해 apply를 활용해 column '등급'을 만들어라."
   ]
  },
  {
   "cell_type": "code",
   "execution_count": 2,
   "metadata": {},
   "outputs": [],
   "source": [
    "import pandas as pd\n",
    "from matplotlib import pyplot as plt"
   ]
  },
  {
   "cell_type": "code",
   "execution_count": 3,
   "metadata": {},
   "outputs": [
    {
     "data": {
      "text/html": [
       "<div>\n",
       "<style scoped>\n",
       "    .dataframe tbody tr th:only-of-type {\n",
       "        vertical-align: middle;\n",
       "    }\n",
       "\n",
       "    .dataframe tbody tr th {\n",
       "        vertical-align: top;\n",
       "    }\n",
       "\n",
       "    .dataframe thead th {\n",
       "        text-align: right;\n",
       "    }\n",
       "</style>\n",
       "<table border=\"1\" class=\"dataframe\">\n",
       "  <thead>\n",
       "    <tr style=\"text-align: right;\">\n",
       "      <th></th>\n",
       "      <th>미세먼지</th>\n",
       "      <th>초미세먼지</th>\n",
       "      <th>점수</th>\n",
       "      <th>등급</th>\n",
       "    </tr>\n",
       "    <tr>\n",
       "      <th>날짜</th>\n",
       "      <th></th>\n",
       "      <th></th>\n",
       "      <th></th>\n",
       "      <th></th>\n",
       "    </tr>\n",
       "  </thead>\n",
       "  <tbody>\n",
       "    <tr>\n",
       "      <th>2020-01-25</th>\n",
       "      <td>64</td>\n",
       "      <td>22</td>\n",
       "      <td>103.6</td>\n",
       "      <td>나쁨</td>\n",
       "    </tr>\n",
       "    <tr>\n",
       "      <th>2020-01-26</th>\n",
       "      <td>86</td>\n",
       "      <td>34</td>\n",
       "      <td>147.2</td>\n",
       "      <td>나쁨</td>\n",
       "    </tr>\n",
       "    <tr>\n",
       "      <th>2020-01-27</th>\n",
       "      <td>78</td>\n",
       "      <td>41</td>\n",
       "      <td>151.8</td>\n",
       "      <td>나쁨</td>\n",
       "    </tr>\n",
       "    <tr>\n",
       "      <th>2020-01-28</th>\n",
       "      <td>45</td>\n",
       "      <td>17</td>\n",
       "      <td>75.6</td>\n",
       "      <td>보통</td>\n",
       "    </tr>\n",
       "    <tr>\n",
       "      <th>2020-01-29</th>\n",
       "      <td>33</td>\n",
       "      <td>15</td>\n",
       "      <td>60.0</td>\n",
       "      <td>보통</td>\n",
       "    </tr>\n",
       "    <tr>\n",
       "      <th>2020-01-30</th>\n",
       "      <td>22</td>\n",
       "      <td>11</td>\n",
       "      <td>41.8</td>\n",
       "      <td>양호</td>\n",
       "    </tr>\n",
       "    <tr>\n",
       "      <th>2020-01-31</th>\n",
       "      <td>25</td>\n",
       "      <td>13</td>\n",
       "      <td>48.4</td>\n",
       "      <td>양호</td>\n",
       "    </tr>\n",
       "    <tr>\n",
       "      <th>2020-02-01</th>\n",
       "      <td>56</td>\n",
       "      <td>23</td>\n",
       "      <td>97.4</td>\n",
       "      <td>보통</td>\n",
       "    </tr>\n",
       "    <tr>\n",
       "      <th>2020-02-02</th>\n",
       "      <td>66</td>\n",
       "      <td>30</td>\n",
       "      <td>120.0</td>\n",
       "      <td>나쁨</td>\n",
       "    </tr>\n",
       "    <tr>\n",
       "      <th>2020-02-03</th>\n",
       "      <td>49</td>\n",
       "      <td>28</td>\n",
       "      <td>99.4</td>\n",
       "      <td>보통</td>\n",
       "    </tr>\n",
       "  </tbody>\n",
       "</table>\n",
       "</div>"
      ],
      "text/plain": [
       "            미세먼지  초미세먼지     점수  등급\n",
       "날짜                                \n",
       "2020-01-25    64     22  103.6  나쁨\n",
       "2020-01-26    86     34  147.2  나쁨\n",
       "2020-01-27    78     41  151.8  나쁨\n",
       "2020-01-28    45     17   75.6  보통\n",
       "2020-01-29    33     15   60.0  보통\n",
       "2020-01-30    22     11   41.8  양호\n",
       "2020-01-31    25     13   48.4  양호\n",
       "2020-02-01    56     23   97.4  보통\n",
       "2020-02-02    66     30  120.0  나쁨\n",
       "2020-02-03    49     28   99.4  보통"
      ]
     },
     "execution_count": 3,
     "metadata": {},
     "output_type": "execute_result"
    }
   ],
   "source": [
    "dust = __________(__________,__________,____________)\n",
    "dust.columns = ____________________\n",
    "_________________ # index 이름 넣기\n",
    "dust['점수'] = ____________________________________\n",
    "def rank(row):\n",
    "    __________________\n",
    "dust['등급']=____________________\n",
    "dust"
   ]
  },
  {
   "cell_type": "markdown",
   "metadata": {},
   "source": [
    "※ 위에서 만든 DataFrame을 활용해 그래프를 그리려고 한다.<br>\n",
    "∙ column '점수'가 y축, 날짜가 x축이 되는 꺾은선 그래프를 그리시오.(title 제목은 'Dust Score for Each Day')<br>\n",
    "∙ dust의 점수 column을 2일 단위로 묶고 이들의 평균값을 내 새로운 dust_mean이라는 array를 만드시오.(resample 함수 활용)<br>\n",
    "∙ dust_mean의 값을 꺾은선 그래프로 그리시오.(선의 색깔은 빨간색)"
   ]
  },
  {
   "cell_type": "code",
   "execution_count": 7,
   "metadata": {},
   "outputs": [
    {
     "name": "stdout",
     "output_type": "stream",
     "text": [
      "날짜\n",
      "2020-01-25    125.4\n",
      "2020-01-27    113.7\n",
      "2020-01-29     50.9\n",
      "2020-01-31     72.9\n",
      "2020-02-02    109.7\n",
      "Freq: 2D, Name: 점수, dtype: float64\n"
     ]
    },
    {
     "name": "stderr",
     "output_type": "stream",
     "text": [
      "C:\\anaconda\\lib\\site-packages\\matplotlib\\backends\\backend_agg.py:211: RuntimeWarning: Glyph 45216 missing from current font.\n",
      "  font.set_text(s, 0.0, flags=flags)\n",
      "C:\\anaconda\\lib\\site-packages\\matplotlib\\backends\\backend_agg.py:211: RuntimeWarning: Glyph 51676 missing from current font.\n",
      "  font.set_text(s, 0.0, flags=flags)\n",
      "C:\\anaconda\\lib\\site-packages\\matplotlib\\backends\\backend_agg.py:180: RuntimeWarning: Glyph 45216 missing from current font.\n",
      "  font.set_text(s, 0, flags=flags)\n",
      "C:\\anaconda\\lib\\site-packages\\matplotlib\\backends\\backend_agg.py:180: RuntimeWarning: Glyph 51676 missing from current font.\n",
      "  font.set_text(s, 0, flags=flags)\n"
     ]
    },
    {
     "data": {
      "image/png": "[encoded data removed]",
      "text/plain": [
       "<Figure size 432x288 with 2 Axes>"
      ]
     },
     "metadata": {
      "needs_background": "light"
     },
     "output_type": "display_data"
    }
   ],
   "source": [
    "dust.index = __________________________\n",
    "_________________ # 그래프 위치 할당\n",
    "______________________________________ # column '점수'에 대한 꺾은선 그래프\n",
    "dust_mean=___________________________\n",
    "_________________ # 새로운 그래프 위치 할당\n",
    "____________________ # dust_mean에 대한 꺾은선 그래프\n",
    "print(dust_mean)\n",
    "plt.show()"
   ]
  }
 ],
 "metadata": {
  "kernelspec": {
   "display_name": "Python 3",
   "language": "python",
   "name": "python3"
  },
  "language_info": {
   "codemirror_mode": {
    "name": "ipython",
    "version": 3
   },
   "file_extension": ".py",
   "mimetype": "text/x-python",
   "name": "python",
   "nbconvert_exporter": "python",
   "pygments_lexer": "ipython3",
   "version": "3.7.6"
  }
 },
 "nbformat": 4,
 "nbformat_minor": 2
}
