{
  "nbformat": 4,
  "nbformat_minor": 0,
  "metadata": {
    "colab": {
      "name": "딥러닝개론 과제.ipynb",
      "provenance": [],
      "collapsed_sections": []
    },
    "kernelspec": {
      "name": "python3",
      "display_name": "Python 3"
    },
    "accelerator": "GPU"
  },
  "cells": [
    {
      "cell_type": "markdown",
      "metadata": {
        "id": "mz_SVAi2qhYt",
        "colab_type": "text"
      },
      "source": [
        "# Basics of Deep Learning 과제\n",
        "\n",
        "- 세션에서는 딥러닝과 DNN의 기초에 대해 배웠다면, 이젠 Tensorflow 2를 이용하여 이를 실습해 볼 차례이다.\n",
        "\n",
        "- 가장 흔하게 알려져 있는 MNIST Digits/ Fashion 데이터를 활용할 예정이다.\n",
        "\n",
        "- Digits 데이터에 대한 자세한 설명은 [이곳](https://en.wikipedia.org/wiki/MNIST_database) 을, Fashion 데이터에 대한 설명은 [이곳](https://github.com/zalandoresearch/fashion-mnist) 을 참조하자."
      ]
    },
    {
      "cell_type": "code",
      "metadata": {
        "id": "i242U4Y4mM_i",
        "colab_type": "code",
        "outputId": "80b21788-e7d4-46f9-ac4f-d7e7ea6b64c3",
        "colab": {
          "base_uri": "https://localhost:8080/",
          "height": 35
        }
      },
      "source": [
        "try:\n",
        "  %tensorflow_version 2.x\n",
        "except Exception:\n",
        "  pass"
      ],
      "execution_count": 0,
      "outputs": [
        {
          "output_type": "stream",
          "text": [
            "TensorFlow 2.x selected.\n"
          ],
          "name": "stdout"
        }
      ]
    },
    {
      "cell_type": "code",
      "metadata": {
        "id": "y4Ax-cfemSZD",
        "colab_type": "code",
        "colab": {}
      },
      "source": [
        "# 우선 필요한 라이브러리를 import 해 준다.\n",
        "from __future__ import absolute_import, division, print_function, unicode_literals\n",
        "import numpy as np\n",
        "import tensorflow as tf\n",
        "from tensorflow import keras\n",
        "# colab이 아닌 jupyter notebook 사용자이며, tensorflow 사용 경험이 없다면 pip 문을 활용하여 설치부터 진행하도록 하자.\n",
        "\n",
        "import random\n",
        "import matplotlib.pyplot as plt"
      ],
      "execution_count": 0,
      "outputs": []
    },
    {
      "cell_type": "code",
      "metadata": {
        "id": "GxrBgitnmYLm",
        "colab_type": "code",
        "outputId": "709af686-656f-4334-b01b-ab5970ee96fb",
        "colab": {
          "base_uri": "https://localhost:8080/",
          "height": 35
        }
      },
      "source": [
        "print(tf.__version__)   # 2.x가 출력되어야 한다."
      ],
      "execution_count": 0,
      "outputs": [
        {
          "output_type": "stream",
          "text": [
            "2.1.0\n"
          ],
          "name": "stdout"
        }
      ]
    },
    {
      "cell_type": "markdown",
      "metadata": {
        "id": "bUo4n9Tmqvb8",
        "colab_type": "text"
      },
      "source": [
        "> MNIST digits"
      ]
    },
    {
      "cell_type": "code",
      "metadata": {
        "id": "-CUATwylmgRf",
        "colab_type": "code",
        "outputId": "b183857c-a682-481e-a63a-66b83709af46",
        "colab": {
          "base_uri": "https://localhost:8080/",
          "height": 53
        }
      },
      "source": [
        "mnist = tf.keras.datasets.mnist\n",
        "\n",
        "(x_train, y_train), (x_test, y_test) = mnist.load_data()  # mnist data를 load해준다.\n",
        "\n"
      ],
      "execution_count": 0,
      "outputs": [
        {
          "output_type": "stream",
          "text": [
            "Downloading data from https://storage.googleapis.com/tensorflow/tf-keras-datasets/mnist.npz\n",
            "11493376/11490434 [==============================] - 0s 0us/step\n"
          ],
          "name": "stdout"
        }
      ]
    },
    {
      "cell_type": "code",
      "metadata": {
        "id": "sEuCpPUenEAb",
        "colab_type": "code",
        "outputId": "55ef1c8b-e407-4829-84d7-14ce69899645",
        "colab": {
          "base_uri": "https://localhost:8080/",
          "height": 265
        }
      },
      "source": [
        "plt.figure()\n",
        "plt.imshow(x_train[0])\n",
        "plt.colorbar()\n",
        "plt.grid(False)\n",
        "plt.show()\n",
        "\n",
        "# 위를 통해 각 픽셀 값의 범위가 0~255임을 알 수 있다."
      ],
      "execution_count": 0,
      "outputs": [
        {
          "output_type": "display_data",
          "data": {
            "image/png": "[encoded data removed]",
            "text/plain": [
              "<Figure size 432x288 with 2 Axes>"
            ]
          },
          "metadata": {
            "tags": []
          }
        }
      ]
    },
    {
      "cell_type": "code",
      "metadata": {
        "id": "-LFW2SjJnRds",
        "colab_type": "code",
        "colab": {}
      },
      "source": [
        "# x_train, x_test에 대해 그 값의 범위를 0~1사이로 조정하자.\n",
        "\n",
        "x_train, x_test = x_train / _____, x_test / _____"
      ],
      "execution_count": 0,
      "outputs": []
    },
    {
      "cell_type": "code",
      "metadata": {
        "id": "-p1zdegmoSWg",
        "colab_type": "code",
        "colab": {}
      },
      "source": [
        "# 4개의 레이어로 구성된 Neural Network model을 만들어 줍니다. \n",
        "\n",
        "model = keras._______([                   # model을 sequential 타입으로 설정\n",
        "  keras.layers.Flatten(input_shape=(28, 28)),       # 784(28*28)개의 값을 입력\n",
        "  keras.layers.Dense(128, activation=_____),       # 128개 값을 인코딩 할 때 쓰이는 activation function을 relu형식으로 지정해 줍니다.\n",
        "  keras.layers.Dropout(____),                        # 20%의 데이터 dropout\n",
        "  keras.layers.Dense(10, activation=_____)      # Softmax 함수 사용하여 10개의 값 출력\n",
        "])\n",
        "\n"
      ],
      "execution_count": 0,
      "outputs": []
    },
    {
      "cell_type": "code",
      "metadata": {
        "id": "mLOx2yHTo0zt",
        "colab_type": "code",
        "colab": {}
      },
      "source": [
        "# 모델을 컴파일하기 위해 optimizer와 loss function을 선택합니다.\n",
        "\n",
        "model.______(optimizer='adam',\n",
        "              loss='sparse_categorical_crossentropy',\n",
        "              metrics=['accuracy'])"
      ],
      "execution_count": 0,
      "outputs": []
    },
    {
      "cell_type": "code",
      "metadata": {
        "id": "7h5oRnlav7eu",
        "colab_type": "code",
        "outputId": "115585ea-ff5b-4238-d72d-abff3221a95e",
        "colab": {
          "base_uri": "https://localhost:8080/",
          "height": 233
        }
      },
      "source": [
        "# 모델을 학습시킨다.\n",
        "# 이때 epoch수는 5로 지정한다.\n",
        "\n",
        "model.fit(x_train, y_train, ____ = __)"
      ],
      "execution_count": 0,
      "outputs": [
        {
          "output_type": "stream",
          "text": [
            "Train on 60000 samples\n",
            "Epoch 1/5\n",
            "60000/60000 [==============================] - 6s 101us/sample - loss: 0.2953 - accuracy: 0.9160\n",
            "Epoch 2/5\n",
            "60000/60000 [==============================] - 4s 67us/sample - loss: 0.1434 - accuracy: 0.9578\n",
            "Epoch 3/5\n",
            "60000/60000 [==============================] - 4s 67us/sample - loss: 0.1072 - accuracy: 0.9667\n",
            "Epoch 4/5\n",
            "60000/60000 [==============================] - 4s 67us/sample - loss: 0.0894 - accuracy: 0.9725\n",
            "Epoch 5/5\n",
            "60000/60000 [==============================] - 4s 66us/sample - loss: 0.0753 - accuracy: 0.9770\n"
          ],
          "name": "stdout"
        },
        {
          "output_type": "execute_result",
          "data": {
            "text/plain": [
              "<tensorflow.python.keras.callbacks.History at 0x7f2210084828>"
            ]
          },
          "metadata": {
            "tags": []
          },
          "execution_count": 10
        }
      ]
    },
    {
      "cell_type": "code",
      "metadata": {
        "id": "aUaUeF4qy4j1",
        "colab_type": "code",
        "outputId": "938b4363-cb10-4064-d0d5-687bd71f2e57",
        "colab": {
          "base_uri": "https://localhost:8080/",
          "height": 53
        }
      },
      "source": [
        "# 모델을 평가한다.\n",
        "\n",
        "model.evaluate(x_test, y_test, verbose=2)"
      ],
      "execution_count": 0,
      "outputs": [
        {
          "output_type": "stream",
          "text": [
            "10000/10000 - 1s - loss: 0.0778 - accuracy: 0.9766\n"
          ],
          "name": "stdout"
        },
        {
          "output_type": "execute_result",
          "data": {
            "text/plain": [
              "[0.07784510372993536, 0.9766]"
            ]
          },
          "metadata": {
            "tags": []
          },
          "execution_count": 11
        }
      ]
    },
    {
      "cell_type": "markdown",
      "metadata": {
        "id": "Ot4WFAVaqgri",
        "colab_type": "text"
      },
      "source": [
        "> MNIST Fashion"
      ]
    },
    {
      "cell_type": "code",
      "metadata": {
        "id": "mENEsrQQsld7",
        "colab_type": "code",
        "outputId": "bb5de3d2-9818-4fad-c96e-cd0a2a689a1d",
        "colab": {
          "base_uri": "https://localhost:8080/",
          "height": 161
        }
      },
      "source": [
        "fashion_mnist = keras.datasets.fashion_mnist\n",
        "\n",
        "# Fashion 데이터를 로드해 준다.\n",
        "(image_train, type_train), (image_test, type_test) = fashion_mnist.load_data()"
      ],
      "execution_count": 0,
      "outputs": [
        {
          "output_type": "stream",
          "text": [
            "Downloading data from https://storage.googleapis.com/tensorflow/tf-keras-datasets/train-labels-idx1-ubyte.gz\n",
            "32768/29515 [=================================] - 0s 0us/step\n",
            "Downloading data from https://storage.googleapis.com/tensorflow/tf-keras-datasets/train-images-idx3-ubyte.gz\n",
            "26427392/26421880 [==============================] - 0s 0us/step\n",
            "Downloading data from https://storage.googleapis.com/tensorflow/tf-keras-datasets/t10k-labels-idx1-ubyte.gz\n",
            "8192/5148 [===============================================] - 0s 0us/step\n",
            "Downloading data from https://storage.googleapis.com/tensorflow/tf-keras-datasets/t10k-images-idx3-ubyte.gz\n",
            "4423680/4422102 [==============================] - 0s 0us/step\n"
          ],
          "name": "stdout"
        }
      ]
    },
    {
      "cell_type": "code",
      "metadata": {
        "id": "9QRptn3KvTPO",
        "colab_type": "code",
        "outputId": "91037665-e540-4e6a-d628-a4ca31826258",
        "colab": {
          "base_uri": "https://localhost:8080/",
          "height": 53
        }
      },
      "source": [
        "# x_train, y_train의 shape를 파악해 준다.\n",
        "\n",
        "print(image_train.shape, type_train.shape)\n",
        "\n",
        "# x_test, y_test의 shape도 파악해 준다.\n",
        "\n",
        "print(image_test.shape, type_test.shape)"
      ],
      "execution_count": 0,
      "outputs": [
        {
          "output_type": "stream",
          "text": [
            "(60000, 28, 28) (60000,)\n",
            "(10000, 28, 28) (10000,)\n"
          ],
          "name": "stdout"
        }
      ]
    },
    {
      "cell_type": "code",
      "metadata": {
        "id": "BPgnOMvcvlkI",
        "colab_type": "code",
        "outputId": "362e9cea-f46a-42fc-a81e-ec1d21aa7473",
        "colab": {
          "base_uri": "https://localhost:8080/",
          "height": 265
        }
      },
      "source": [
        "# 위 mnist digit에서 했던 것과 동일하게 그림으로 image_train[0]을 나타내 보자.\n",
        "\n",
        "______\n",
        "______\n",
        "______\n",
        "______\n",
        "______\n",
        "\n",
        "\n",
        "# 위를 통해 각 픽셀 값의 범위가 0~255임을 알 수 있다."
      ],
      "execution_count": 0,
      "outputs": [
        {
          "output_type": "display_data",
          "data": {
            "image/png": "[encoded data removed]",
            "text/plain": [
              "<Figure size 432x288 with 2 Axes>"
            ]
          },
          "metadata": {
            "tags": []
          }
        }
      ]
    },
    {
      "cell_type": "code",
      "metadata": {
        "id": "ZU5ffTXawD5v",
        "colab_type": "code",
        "colab": {}
      },
      "source": [
        "# image_train, image_test에 대해 그 값의 범위를 0~1사이로 조정하자.\n",
        "\n",
        "image_train, image_test = image_train / _____, image_test / _____"
      ],
      "execution_count": 0,
      "outputs": []
    },
    {
      "cell_type": "code",
      "metadata": {
        "id": "CHcGsHGSw0G8",
        "colab_type": "code",
        "colab": {}
      },
      "source": [
        "# 4개의 레이어로 구성된 Neural Network model을 만들어 준다. \n",
        "\n",
        "model2 = keras._______([                         # model을 sequential 타입으로 설정\n",
        "  keras.layers.Flatten(input_shape=(28, 28)),       # 784(28*28)개의 값을 입력\n",
        "  keras.layers.Dense(128, activation='____'),       # 128개 값을 인코딩 할 때 쓰이는 activation function을 relu형식으로 지정해 줍니다.\n",
        "  keras.layers.Dense(10, activation='____')      # Softmax 함수 사용하여 10개의 값 출력\n",
        "])\n",
        "\n"
      ],
      "execution_count": 0,
      "outputs": []
    },
    {
      "cell_type": "code",
      "metadata": {
        "id": "ekYr4jXHyYcw",
        "colab_type": "code",
        "colab": {}
      },
      "source": [
        "# 모델을 컴파일하기 위해 optimizer와 loss function을 선택한다.\n",
        "\n",
        "model2._____(optimizer='adam',\n",
        "              loss='sparse_categorical_crossentropy',\n",
        "              metrics=['accuracy'])"
      ],
      "execution_count": 0,
      "outputs": []
    },
    {
      "cell_type": "code",
      "metadata": {
        "id": "4V38MMez2KgA",
        "colab_type": "code",
        "outputId": "a9db9655-a727-4169-8a93-3668a6996814",
        "colab": {
          "base_uri": "https://localhost:8080/",
          "height": 233
        }
      },
      "source": [
        "# 모델을 학습시킨다.\n",
        "# 이때 epoch수는 5로 지정한다.\n",
        "\n",
        "model.fit(image_train, type_train, _____=__)"
      ],
      "execution_count": 0,
      "outputs": [
        {
          "output_type": "stream",
          "text": [
            "Train on 60000 samples\n",
            "Epoch 1/5\n",
            "60000/60000 [==============================] - 4s 69us/sample - loss: 0.6088 - accuracy: 0.7877\n",
            "Epoch 2/5\n",
            "60000/60000 [==============================] - 4s 69us/sample - loss: 0.4510 - accuracy: 0.8355\n",
            "Epoch 3/5\n",
            "60000/60000 [==============================] - 4s 68us/sample - loss: 0.4107 - accuracy: 0.8499\n",
            "Epoch 4/5\n",
            "60000/60000 [==============================] - 4s 68us/sample - loss: 0.3864 - accuracy: 0.8575\n",
            "Epoch 5/5\n",
            "60000/60000 [==============================] - 4s 68us/sample - loss: 0.3699 - accuracy: 0.8644\n"
          ],
          "name": "stdout"
        },
        {
          "output_type": "execute_result",
          "data": {
            "text/plain": [
              "<tensorflow.python.keras.callbacks.History at 0x7f21fa2eff28>"
            ]
          },
          "metadata": {
            "tags": []
          },
          "execution_count": 18
        }
      ]
    },
    {
      "cell_type": "code",
      "metadata": {
        "id": "uneC3T636bdC",
        "colab_type": "code",
        "outputId": "b2ce948c-a503-4193-a813-f536caa96ac0",
        "colab": {
          "base_uri": "https://localhost:8080/",
          "height": 53
        }
      },
      "source": [
        "# 모델을 평가한다.\n",
        "\n",
        "model.evaluate(image_test, type_test, verbose=2)"
      ],
      "execution_count": 0,
      "outputs": [
        {
          "output_type": "stream",
          "text": [
            "10000/10000 - 1s - loss: 0.3696 - accuracy: 0.8680\n"
          ],
          "name": "stdout"
        },
        {
          "output_type": "execute_result",
          "data": {
            "text/plain": [
              "[0.36964400990009305, 0.868]"
            ]
          },
          "metadata": {
            "tags": []
          },
          "execution_count": 19
        }
      ]
    },
    {
      "cell_type": "markdown",
      "metadata": {
        "id": "eCbUKImS6iTc",
        "colab_type": "text"
      },
      "source": [
        "*** https://www.curiousily.com/posts/build-your-first-neural-network-in-tensorflow-2/ \n",
        "여기 참고해서 보충하기"
      ]
    }
  ]
}