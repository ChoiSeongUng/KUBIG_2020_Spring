{
 "cells": [
  {
   "cell_type": "markdown",
   "metadata": {},
   "source": [
    "# Prediction Model2 - with titanic dataset"
   ]
  },
  {
   "cell_type": "code",
   "execution_count": null,
   "metadata": {},
   "outputs": [],
   "source": [
    "import pandas as pd\n",
    "\n",
    "#데이터를 로드하고 data라는 변수에 저장하시오.\n",
    "data=pd.read_csv('~/titanic.csv')\n",
    "\n",
    "#drop the columns 'PassengerId','Name','SibSp','Parch','Ticket','Fare','Cabin' and 'Embarked'\n",
    "data.drop([____________],axis=1,inplace=True)\n",
    "\n",
    "#성별을 나타내는 columns이 female일 경우 1의 값을 갖게하고 male일 경우 0의 값을 갖게 하시오.\n",
    "data.Sex=__________"
   ]
  },
  {
   "cell_type": "code",
   "execution_count": null,
   "metadata": {},
   "outputs": [],
   "source": [
    "#'Age' column에서 결측값이 몇개 있는지 확인하시오.\n",
    "data.______"
   ]
  },
  {
   "cell_type": "code",
   "execution_count": null,
   "metadata": {},
   "outputs": [],
   "source": [
    "#'Age' column에서 결측값을 Age의 중간값으로 채워넣으시오.\n",
    "data[\"Age\"] = ___________________"
   ]
  },
  {
   "cell_type": "code",
   "execution_count": null,
   "metadata": {},
   "outputs": [],
   "source": [
    "#data에서 모든 행의 첫번째 열만 y라는 변수에 저장하시오\n",
    "#data에서 모든 행의 두번째 열부터는 X라는 변수에 저장하시오.\n",
    "X=_________\n",
    "y=_________"
   ]
  },
  {
   "cell_type": "code",
   "execution_count": null,
   "metadata": {},
   "outputs": [],
   "source": [
    "#X의 앞에서부터 5행을 출력하시오.\n",
    "_______"
   ]
  },
  {
   "cell_type": "code",
   "execution_count": null,
   "metadata": {},
   "outputs": [],
   "source": [
    "#y의 앞에서부터 5행을 출력하시오.\n",
    "_______"
   ]
  },
  {
   "cell_type": "code",
   "execution_count": null,
   "metadata": {},
   "outputs": [],
   "source": [
    "from sklearn.model_selection import train_test_split\n",
    "\n",
    "#X와 y를 train set과 test set으로 나누고 X_train, X_test, y_train,y_test에 저장하시오.\n",
    "#이 때, test size는 0.2로 하고 random state은 42로 하시오.\n",
    "X_train, X_test, y_train, y_test = ______________________"
   ]
  },
  {
   "cell_type": "code",
   "execution_count": null,
   "metadata": {},
   "outputs": [],
   "source": [
    "# Import DecisionTreeClassifier from sklearn.tree\n",
    "from sklearn.tree import DecisionTreeClassifier\n",
    "\n",
    "# Instantiate a DecisionTreeClassifier 'dt' with a random state 42\n",
    "dt = DecisionTreeClassifier(random_state=42)\n",
    "\n",
    "# Fit dt to the training set\n",
    "________________\n",
    "\n",
    "# Predict test set labels\n",
    "y_pred = _________\n",
    "print(y_pred[0:5])\n"
   ]
  },
  {
   "cell_type": "code",
   "execution_count": null,
   "metadata": {},
   "outputs": [],
   "source": [
    "# Import accuracy_score\n",
    "________________________\n",
    "\n",
    "# calculate accuracy score  \n",
    "acc = ______________\n",
    "print(\"Test set accuracy: {:.2f}\".format(acc))"
   ]
  },
  {
   "cell_type": "code",
   "execution_count": null,
   "metadata": {},
   "outputs": [],
   "source": [
    "# Instantiate a DecisionTreeClassifier dt_entropy.\n",
    "# set criterion as 'entropy'\n",
    "# Also, set 'max_depth' as 8 with a random state 42.\n",
    "dt_entropy = _____________________________\n",
    "\n",
    "# Fit dt_entropy to the training set\n",
    "_________________\n",
    "\n",
    "\n",
    "# Predict test set labels\n",
    "y_pred=_______________\n",
    "\n",
    "# calculate accuracy score\n",
    "accuracy_entropy = ________________\n",
    "print(\"Test set accuracy: {:.2f}\".format(accuracy_entropy))"
   ]
  },
  {
   "cell_type": "code",
   "execution_count": null,
   "metadata": {},
   "outputs": [],
   "source": [
    "# Import LogisticRegression from sklearn.linear_model\n",
    "________________________________\n",
    "\n",
    "# Instatiate LogisticRegression with random state 42\n",
    "logreg = __________________\n",
    "\n",
    "# Fit logreg to the training set\n",
    "________________\n",
    "\n",
    "# predict test set labels\n",
    "y_pred=_____________\n",
    "\n",
    "# calculate accuracy score\n",
    "acc_lr = ________________\n",
    "print(\"Test set accuracy: {:.2f}\".format(acc_lr))"
   ]
  },
  {
   "cell_type": "code",
   "execution_count": null,
   "metadata": {},
   "outputs": [],
   "source": [
    "from sklearn.neighbors import KNeighborsClassifier as KNN\n",
    "\n",
    "# Instantiate knn\n",
    "knn = KNN(n_neighbors=10)\n",
    "\n",
    "# Define the list classifiers\n",
    "classifiers = [('Logistic Regression', logreg), ('K Nearest Neighbours', knn), ('Classification Tree', dt_entropy)]"
   ]
  },
  {
   "cell_type": "code",
   "execution_count": null,
   "metadata": {},
   "outputs": [],
   "source": [
    "# Iterate over the pre-defined list of classifiers\n",
    "for clf_name, clf in classifiers:    \n",
    " \n",
    "    # Fit clf to the training set\n",
    "    ________________   \n",
    "   \n",
    "    # Predict y_pred\n",
    "    y_pred = ______________\n",
    "    \n",
    "    # Calculate accuracy\n",
    "    accuracy = _______________\n",
    "   \n",
    "    # Evaluate clf's accuracy on the test set\n",
    "    print('{:s} : {:.2f}'.format(clf_name, accuracy))"
   ]
  },
  {
   "cell_type": "code",
   "execution_count": null,
   "metadata": {},
   "outputs": [],
   "source": [
    "# Import VotingClassifier from sklearn.ensemble\n",
    "____________________________\n",
    "\n",
    "# Instantiate a VotingClassifier vc. \n",
    "#Set estimators as 'classifiers' you defined above.\n",
    "vc = __________________  \n",
    "\n",
    "# Fit vc to the training set\n",
    "_________________\n",
    "\n",
    "# predict test set labels\n",
    "y_pred = _______________\n",
    "\n",
    "# Calculate accuracy score\n",
    "accuracy = ______________\n",
    "print('Voting Classifier: {:.3f}'.format(accuracy))"
   ]
  },
  {
   "cell_type": "code",
   "execution_count": null,
   "metadata": {},
   "outputs": [],
   "source": [
    "# Import BaggingClassifier from sklearn.ensemble\n",
    "__________________________\n",
    "\n",
    "# Instantiate a BaggingClassifier bc. \n",
    "#Set base_estimator as dt_entropy.\n",
    "#Also, set n_estimators as 50 with random state 1.\n",
    "bc = _________________________________\n",
    "# Fit bc to the training set\n",
    "_______________\n",
    "\n",
    "# Predict test set labels\n",
    "y_pred = _______________\n",
    "\n",
    "# calculate accuracy score\n",
    "acc_test = ______________\n",
    "print('Test set accuracy of bc: {:.3f}'.format(acc_test)) "
   ]
  },
  {
   "cell_type": "code",
   "execution_count": null,
   "metadata": {},
   "outputs": [],
   "source": [
    "#Import confusion_matrix\n",
    "___________________\n",
    "\n",
    "#print confusion_matrix.\n",
    "print(_________________)"
   ]
  },
  {
   "cell_type": "code",
   "execution_count": null,
   "metadata": {},
   "outputs": [],
   "source": [
    "# Build a balanced logistic regression with random state 1.\n",
    "clf_base = ______________________\n",
    "\n",
    "# Build and fit a bagging classifier. base_estimator is clf_base.\n",
    "# Also, set n_estimators as 50 with random state 1.\n",
    "clf_bag = _________________________\n",
    "\n",
    "#fit clf_bag to the training set.\n",
    "_______________\n",
    "\n",
    "# Calculate predictions and evaluate the accuracy on the test set\n",
    "y_pred = _____________\n",
    "print('Accuracy:  {:.2f}'.format(accuracy_score(y_test, y_pred)))"
   ]
  },
  {
   "cell_type": "code",
   "execution_count": null,
   "metadata": {},
   "outputs": [],
   "source": [
    "# Import AdaBoostClassifier\n",
    "_________________________\n",
    "\n",
    "# Instantiate AdaBoostClassifier ada.\n",
    "# base estimator is dt. n_estimator is 180. random state is 1.\n",
    "ada = __________________________\n",
    "\n",
    "# Fit ada to the training set\n",
    "________________\n",
    "\n",
    "# Predict test set labels\n",
    "y_pred=_____________\n",
    "\n",
    "# evaluate the accuracy on the test set\n",
    "acc_test = _________________\n",
    "print('Test set accuracy of bc: {:.3f}'.format(acc_test)) "
   ]
  },
  {
   "cell_type": "code",
   "execution_count": null,
   "metadata": {},
   "outputs": [],
   "source": [
    "# Import GradientBoostingClassifier\n",
    "_____________________\n",
    "\n",
    "# Build and fit a Gradient Boosting classifier\n",
    "#n_estimator is 180. learning rate is 0.1, random state is 1.\n",
    "clf_gbm = __________________________\n",
    "\n",
    "#fit clf_gbm to the training set\n",
    "_________________\n",
    "\n",
    "# Calculate the predictions on the test set\n",
    "pred = ___________________\n",
    "\n",
    "# Evaluate the performance based on the accuracy\n",
    "acc = ________________\n",
    "print('Accuracy: {:.3f}'.format(acc))\n",
    "\n",
    "# Get and show the Confusion Matrix\n",
    "cm = ____________\n",
    "print(cm)"
   ]
  },
  {
   "cell_type": "code",
   "execution_count": null,
   "metadata": {},
   "outputs": [],
   "source": [
    "# Import RandomForestClassifier\n",
    "_____________________________\n",
    "\n",
    "# Instantiate RandomForestClassifier rf.\n",
    "#n_estimator is 25. min_samples_leaf is 8. random state is 2.\n",
    "rf = ______________________\n",
    "            \n",
    "# Fit rf to the training set    \n",
    "_______________\n",
    "\n",
    "# Predict test set labels\n",
    "y_pred = ______________\n",
    "\n",
    "# calculate accuracy score\n",
    "acc_test = __________________\n",
    "print('Test set accuracy of bc: {:.2f}'.format(acc_test)) "
   ]
  },
  {
   "cell_type": "code",
   "execution_count": null,
   "metadata": {},
   "outputs": [],
   "source": [
    "# Define params_rf\n",
    "# params_rf is dictionary with key 'n_estimators','min_samples_leaf' and 'max_depth'. \n",
    "#Each value of dictionary is list [20,30,40,50,60], [10,20,30] and [4,6,8] respectively.\n",
    "\n",
    "params_rf = {_____________________________}"
   ]
  },
  {
   "cell_type": "code",
   "execution_count": null,
   "metadata": {},
   "outputs": [],
   "source": [
    "# Import GridSearchCV\n",
    "________________________________\n",
    "\n",
    "# Instantiate GridSearchCV.\n",
    "#estimator is rf. param_grid is params_rf. scoring is 'accuracy'.\n",
    "#Use 5-fold cross validation.\n",
    "grid_rf = _________________________\n",
    "\n",
    "\n",
    "#fit grid_rf to the training data.\n",
    "_______________________\n",
    "\n",
    "# Predict test set labels\n",
    "y_pred = _____________\n",
    "\n",
    "#calculate accuacy score\n",
    "acc_test = ________________\n",
    "print('Test set accuracy of bc: {:.6f}'.format(acc_test)) "
   ]
  },
  {
   "cell_type": "code",
   "execution_count": null,
   "metadata": {},
   "outputs": [],
   "source": [
    "import numpy as np\n",
    "# Import xgboost\n",
    "____________________\n",
    "\n",
    "# Instantiate the XGBClassifier: xg_cl\n",
    "#objective is 'binary:logistic'. n_estimator is 2500. seed is 42.\n",
    "xg_cl = ______________________________\n",
    "\n",
    "# Fit the classifier to the training set\n",
    "__________________\n",
    "\n",
    "# Predict the labels of the test set: preds\n",
    "preds = _______________\n",
    "\n",
    "# Compute the accuracy: accuracy\n",
    "accuracy = ________________________\n",
    "print(\"accuracy: %f\" % (accuracy))\n"
   ]
  }
 ],
 "metadata": {
  "kernelspec": {
   "display_name": "Python 3",
   "language": "python",
   "name": "python3"
  },
  "language_info": {
   "codemirror_mode": {
    "name": "ipython",
    "version": 3
   },
   "file_extension": ".py",
   "mimetype": "text/x-python",
   "name": "python",
   "nbconvert_exporter": "python",
   "pygments_lexer": "ipython3",
   "version": "3.7.6"
  }
 },
 "nbformat": 4,
 "nbformat_minor": 2
}
